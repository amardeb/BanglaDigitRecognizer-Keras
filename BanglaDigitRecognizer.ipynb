{
  "nbformat": 4,
  "nbformat_minor": 0,
  "metadata": {
    "colab": {
      "name": "numtaa.ipynb",
      "version": "0.3.2",
      "provenance": [],
      "collapsed_sections": []
    },
    "kernelspec": {
      "display_name": "Python 3",
      "language": "python",
      "name": "python3"
    },
    "accelerator": "GPU"
  },
  "cells": [
    {
      "metadata": {
        "id": "e9eZ3zjOXrzG",
        "colab_type": "text"
      },
      "cell_type": "markdown",
      "source": [
        "# Bangla Handwritten Digit Recognition using Keras"
      ]
    },
    {
      "metadata": {
        "id": "5ttB1VNQYww-",
        "colab_type": "text"
      },
      "cell_type": "markdown",
      "source": [
        "#### We first download and unzip the NumtaDB dataset by Bengali.ai team which consists of 72K train image and 17.5K test image set. It is a revolutionary dataset for Bangla handwritten digit recognition as it has a wide range of images fro different distributions. "
      ]
    },
    {
      "metadata": {
        "id": "LxJLYPisX0__",
        "colab_type": "code",
        "colab": {}
      },
      "cell_type": "code",
      "source": [
        " !wget https://bengali.ai/wp-content/uploads/datasets/NumtaDB_with_aug.zip -P drive/numta"
      ],
      "execution_count": 0,
      "outputs": []
    },
    {
      "metadata": {
        "id": "iVaizummZ-WT",
        "colab_type": "code",
        "colab": {}
      },
      "cell_type": "code",
      "source": [
        "cd drive/numta"
      ],
      "execution_count": 0,
      "outputs": []
    },
    {
      "metadata": {
        "id": "fqTNLd7daCu0",
        "colab_type": "code",
        "colab": {}
      },
      "cell_type": "code",
      "source": [
        "!unzip NumtaDB_with_aug.zip"
      ],
      "execution_count": 0,
      "outputs": []
    },
    {
      "metadata": {
        "id": "PM9pogNeXM4X",
        "colab_type": "code",
        "colab": {}
      },
      "cell_type": "code",
      "source": [
        "!pip install git+https://github.com/aleju/imgaug"
      ],
      "execution_count": 0,
      "outputs": []
    },
    {
      "metadata": {
        "id": "HYuBb4lQcL1C",
        "colab_type": "text"
      },
      "cell_type": "markdown",
      "source": [
        "#### Next we import various modules for deep learning framework Keras, plotting of images, and 'imgaug' module for image augmentation."
      ]
    },
    {
      "metadata": {
        "id": "Hdx91IACXrzR",
        "colab_type": "code",
        "colab": {}
      },
      "cell_type": "code",
      "source": [
        "# Importing necessary libraries\n",
        "import numpy as np\n",
        "import os\n",
        "import glob\n",
        "import cv2\n",
        "import matplotlib.pyplot as plt\n",
        "import pandas as pd\n",
        "import pickle\n",
        "from keras.utils import to_categorical\n",
        "from keras.layers import Input, Add, Dropout, Dense, Activation, ZeroPadding2D, BatchNormalization, Flatten, Conv2D, AveragePooling2D, MaxPooling2D, GlobalMaxPooling2D\n",
        "from keras.models import Model, load_model, Sequential\n",
        "from keras.preprocessing import image\n",
        "from keras.preprocessing.image import ImageDataGenerator\n",
        "from keras.utils import layer_utils, plot_model\n",
        "from keras.utils.data_utils import get_file\n",
        "from keras.applications.imagenet_utils import preprocess_input\n",
        "from keras.applications import InceptionV3\n",
        "from keras.callbacks import ModelCheckpoint, ReduceLROnPlateau\n",
        "from keras import backend as K\n",
        "from keras.initializers import glorot_uniform\n",
        "from __future__ import print_function\n",
        "import keras\n",
        "from keras import backend as k\n",
        "%matplotlib inline\n",
        "import matplotlib.pyplot as plt\n",
        "import numpy as np\n",
        "import skimage\n",
        "import six\n",
        "import scipy\n",
        "from imgaug import augmenters as iaa"
      ],
      "execution_count": 0,
      "outputs": []
    },
    {
      "metadata": {
        "id": "InkdQsUoXrzp",
        "colab_type": "text"
      },
      "cell_type": "markdown",
      "source": [
        "## Step 1: Load and Process the data"
      ]
    },
    {
      "metadata": {
        "id": "7nudfMfDd8BC",
        "colab_type": "text"
      },
      "cell_type": "markdown",
      "source": [
        "**We extract all the train and test image paths and put them in separate variables.**"
      ]
    },
    {
      "metadata": {
        "id": "9xe1TT0-Xrzt",
        "colab_type": "code",
        "colab": {}
      },
      "cell_type": "code",
      "source": [
        "RESIZE_DIM = 48 # The images will be resized to 28x28 pixels\n",
        "CHANNELS = 1\n",
        "data_dir=os.path.join('')\n",
        "paths_train_a=glob.glob(os.path.join(data_dir,'training-a','*.png'))\n",
        "paths_train_b=glob.glob(os.path.join(data_dir,'training-b','*.png'))\n",
        "paths_train_e=glob.glob(os.path.join(data_dir,'training-e','*.png'))\n",
        "paths_train_c=glob.glob(os.path.join(data_dir,'training-c','*.png'))\n",
        "paths_train_d=glob.glob(os.path.join(data_dir,'training-d','*.png'))\n",
        "paths_train_all=paths_train_a+paths_train_b+paths_train_c+paths_train_d+paths_train_e\n",
        "\n",
        "paths_test_a=glob.glob(os.path.join(data_dir,'testing-a','*.png'))\n",
        "paths_test_b=glob.glob(os.path.join(data_dir,'testing-b','*.png'))\n",
        "paths_test_e=glob.glob(os.path.join(data_dir,'testing-e','*.png'))\n",
        "paths_test_c=glob.glob(os.path.join(data_dir,'testing-c','*.png'))\n",
        "paths_test_d=glob.glob(os.path.join(data_dir,'testing-d','*.png'))\n",
        "paths_test_f=glob.glob(os.path.join(data_dir,'testing-f','*.png'))+glob.glob(os.path.join(data_dir,'testing-f','*.JPG'))\n",
        "paths_test_auga=glob.glob(os.path.join(data_dir,'testing-auga','*.png'))\n",
        "paths_test_augc=glob.glob(os.path.join(data_dir,'testing-augc','*.png'))\n",
        "paths_test_all=paths_test_a+paths_test_b+paths_test_c+paths_test_d+paths_test_e+paths_test_f+paths_test_auga+paths_test_augc\n",
        "\n",
        "path_label_train_a=os.path.join(data_dir,'training-a.csv')\n",
        "path_label_train_b=os.path.join(data_dir,'training-b.csv')\n",
        "path_label_train_e=os.path.join(data_dir,'training-e.csv')\n",
        "path_label_train_c=os.path.join(data_dir,'training-c.csv')\n",
        "path_label_train_d=os.path.join(data_dir,'training-d.csv')\n"
      ],
      "execution_count": 0,
      "outputs": []
    },
    {
      "metadata": {
        "id": "sC9uzaVAXrz_",
        "colab_type": "code",
        "colab": {}
      },
      "cell_type": "code",
      "source": [
        "def get_key(path):\n",
        "    # seperates the key of an image from the filepath\n",
        "    key=path.split(sep=os.sep)[-1]\n",
        "    return key\n",
        "\n",
        "\n",
        "def create_submission(predictions,keys,path):\n",
        "    result = pd.DataFrame(\n",
        "        predictions,\n",
        "        columns=['label'],\n",
        "        index=keys\n",
        "        )\n",
        "    result.index.name='key'\n",
        "    result.to_csv(path, index=True)\n",
        "    \n",
        "\n",
        "def get_data(paths_img,path_label=None,resize_dim=None):\n",
        " \n",
        "    X=[] \n",
        "    for i,path in enumerate(paths_img):\n",
        "        img=cv2.imread(path,cv2.IMREAD_COLOR) \n",
        "        img=cv2.cvtColor(img,cv2.COLOR_RGB2GRAY) # cnahging colorspace to GRAY\n",
        "        if resize_dim is not None:\n",
        "            img=cv2.resize(img,(resize_dim,resize_dim),interpolation=cv2.INTER_AREA) \n",
        " \n",
        "        X.append(img) # expand image to 28x28x1 and append to the list\n",
        "        # display progress\n",
        "        if i==len(paths_img)-1:\n",
        "            end='\\n'\n",
        "        else: end='\\r'\n",
        "        print('processed {}/{}'.format(i+1,len(paths_img)),end=end)\n",
        "        \n",
        "    X=np.array(X) # tranform list to numpy array\n",
        "    if  path_label is None:\n",
        "        return X\n",
        "    else:\n",
        "        df = pd.read_csv(path_label) # read labels\n",
        "        df=df.set_index('filename') \n",
        "        y_label=[df.loc[get_key(path)]['digit'] for path in  paths_img] # get the labels corresponding to the images\n",
        "        y=to_categorical(y_label,10) # transfrom integer value to categorical variable\n",
        "        return X, y\n"
      ],
      "execution_count": 0,
      "outputs": []
    },
    {
      "metadata": {
        "id": "cu6lvexvXr0H",
        "colab_type": "text"
      },
      "cell_type": "markdown",
      "source": [
        "**Next we are going to use the `get_data()` function to load and process all the images from dataset **"
      ]
    },
    {
      "metadata": {
        "id": "49cqjcrTXr0J",
        "colab_type": "code",
        "colab": {
          "base_uri": "https://localhost:8080/",
          "height": 128
        },
        "outputId": "783d775e-52b8-4a4b-f647-7153f9807a23"
      },
      "cell_type": "code",
      "source": [
        "X_train_a,y_train_a=get_data(paths_train_a,path_label_train_a,resize_dim=RESIZE_DIM)\n",
        "X_train_b,y_train_b=get_data(paths_train_b,path_label_train_b,resize_dim=RESIZE_DIM)\n",
        "X_train_c,y_train_c=get_data(paths_train_c,path_label_train_c,resize_dim=RESIZE_DIM)\n",
        "X_train_d,y_train_d=get_data(paths_train_d,path_label_train_d,resize_dim=RESIZE_DIM)\n",
        "X_train_e,y_train_e=get_data(paths_train_e,path_label_train_e,resize_dim=RESIZE_DIM)\n",
        "X_train_all=np.concatenate((X_train_a,X_train_b,X_train_c,X_train_d,X_train_e),axis=0)\n",
        "y_train_all=np.concatenate((y_train_a,y_train_b,y_train_c,y_train_d,y_train_e),axis=0)\n",
        "X_train_a[0].shape,X_train_all.shape, y_train_all.shape\n"
      ],
      "execution_count": 10,
      "outputs": [
        {
          "output_type": "stream",
          "text": [
            "processed 19702/19702\n",
            "processed 359/359\n",
            "processed 24298/24298\n",
            "processed 10908/10908\n",
            "processed 16778/16778\n"
          ],
          "name": "stdout"
        },
        {
          "output_type": "execute_result",
          "data": {
            "text/plain": [
              "((48, 48), (72045, 48, 48), (72045, 10))"
            ]
          },
          "metadata": {
            "tags": []
          },
          "execution_count": 10
        }
      ]
    },
    {
      "metadata": {
        "id": "ucj2_OVeXr0T",
        "colab_type": "code",
        "colab": {
          "base_uri": "https://localhost:8080/",
          "height": 183
        },
        "outputId": "936ca78b-d36a-40bd-ed41-e753c1a8391c"
      },
      "cell_type": "code",
      "source": [
        "X_test_a=get_data(paths_test_a,resize_dim=RESIZE_DIM)\n",
        "X_test_b=get_data(paths_test_b,resize_dim=RESIZE_DIM)\n",
        "X_test_c=get_data(paths_test_c,resize_dim=RESIZE_DIM)\n",
        "X_test_d=get_data(paths_test_d,resize_dim=RESIZE_DIM)\n",
        "X_test_e=get_data(paths_test_e,resize_dim=RESIZE_DIM)\n",
        "X_test_f=get_data(paths_test_f,resize_dim=RESIZE_DIM)\n",
        "X_test_auga=get_data(paths_test_auga,resize_dim=RESIZE_DIM)\n",
        "X_test_augc=get_data(paths_test_augc,resize_dim=RESIZE_DIM)\n",
        "X_test_all=np.concatenate((X_test_a,X_test_b,X_test_c,X_test_d,X_test_e,X_test_f,X_test_auga,X_test_augc))\n",
        "X_test_all.shape"
      ],
      "execution_count": 11,
      "outputs": [
        {
          "output_type": "stream",
          "text": [
            "processed 3489/3489\n",
            "processed 69/69\n",
            "processed 4381/4381\n",
            "processed 1948/1948\n",
            "processed 2970/2970\n",
            "processed 495/495\n",
            "processed 2168/2168\n",
            "processed 2106/2106\n"
          ],
          "name": "stdout"
        },
        {
          "output_type": "execute_result",
          "data": {
            "text/plain": [
              "(17626, 48, 48)"
            ]
          },
          "metadata": {
            "tags": []
          },
          "execution_count": 11
        }
      ]
    },
    {
      "metadata": {
        "id": "1yfNR_a6Xr0c",
        "colab_type": "text"
      },
      "cell_type": "markdown",
      "source": [
        "**Here are some visualizzation of sample Bangla digit images.**"
      ]
    },
    {
      "metadata": {
        "id": "H7etWYPGXr0o",
        "colab_type": "code",
        "colab": {
          "base_uri": "https://localhost:8080/",
          "height": 268
        },
        "outputId": "697737f3-0ee2-47a2-da56-dc4da0e1be26"
      },
      "cell_type": "code",
      "source": [
        "X_show_all=X_train_all\n",
        "X_tshow_all=X_test_all\n",
        "\n",
        "plt.subplot(221)\n",
        "plt.imshow(X_train_all[0], cmap=plt.get_cmap('gray'))\n",
        "plt.subplot(222)\n",
        "plt.imshow(X_train_all[1], cmap=plt.get_cmap('gray'))\n",
        "plt.subplot(223)\n",
        "plt.imshow(X_train_all[2], cmap=plt.get_cmap('gray'))\n",
        "plt.subplot(224)\n",
        "plt.imshow(X_train_all[3], cmap=plt.get_cmap('gray'))\n",
        "# show the plot\n",
        "plt.show()"
      ],
      "execution_count": 13,
      "outputs": [
        {
          "output_type": "display_data",
          "data": {
            "image/png": "[encoded data removed]",
            "text/plain": [
              "<matplotlib.figure.Figure at 0x7f1600676048>"
            ]
          },
          "metadata": {
            "tags": []
          }
        }
      ]
    },
    {
      "metadata": {
        "id": "Ye-Pgyg-rhs2",
        "colab_type": "text"
      },
      "cell_type": "markdown",
      "source": [
        "##Step 2: Data Preprosessing"
      ]
    },
    {
      "metadata": {
        "id": "-Q10aAzefF3S",
        "colab_type": "text"
      },
      "cell_type": "markdown",
      "source": [
        "**We make use of the imgaug library to augment our images in order to replicate the distribution of the test set images. This library allows to modify images in a flexible way.**"
      ]
    },
    {
      "metadata": {
        "id": "Au87VT7nr5-N",
        "colab_type": "code",
        "colab": {
          "base_uri": "https://localhost:8080/",
          "height": 54
        },
        "outputId": "f0313928-2de1-46c5-a41b-06978973b378"
      },
      "cell_type": "code",
      "source": [
        "X_train_all = X_train_all.reshape(X_train_all.shape[0],RESIZE_DIM, RESIZE_DIM,CHANNELS)\n",
        "#X_train_b = X_train_b.reshape(X_train_b.shape[0],RESIZE_DIM, RESIZE_DIM,CHANNELS)\n",
        "\n",
        "def img_func(images, random_state, parents, hooks):\n",
        "    for img in images:\n",
        "        img[::10] = 150\n",
        "    return images\n",
        "\n",
        "def keypoint_func(keypoints_on_images, random_state, parents, hooks):\n",
        "    return keypoints_on_images\n",
        "\n",
        "xx = np.concatenate((X_train_a, X_train_c), axis=0)\n",
        "yy = np.concatenate((y_train_a, y_train_c), axis=0)\n",
        "xx = xx.reshape(xx.shape[0], RESIZE_DIM, RESIZE_DIM, CHANNELS)  \n",
        "\n",
        "#auggg = iaa.Sometimes(0.001, iaa.Lambda(img_func , keypoint_func))\n",
        "#aug = iaa.Lambda(img_func, keypoint_func)\n",
        "aug = iaa.SomeOf((1, 5), [\n",
        "    iaa.GaussianBlur(sigma=(0.3, 1)),\n",
        "    iaa.AddElementwise((0, 75)),\n",
        "    iaa.AdditiveGaussianNoise(scale=(0, 0.07*255)),\n",
        "    iaa.Multiply((0.5, 1.5)),\n",
        "    iaa.Dropout(p=(0, 0.1)),\n",
        "    iaa.Invert(0.5),\n",
        "    iaa.ContrastNormalization((0.5, 1.5)),\n",
        "    iaa.Affine(shear=(-30, 30), mode=['constant', 'edge']),\n",
        "    iaa.Affine(scale=(0.7, 1.3), mode=['constant', 'edge']),\n",
        "    iaa.Affine(scale={\"x\": (0.6, 1.3), \"y\": (0.6, 1.3)}, mode=['constant', 'edge']),\n",
        "    iaa.Affine(translate_percent={\"x\": (-0.25, 0.25), \"y\": (-0.25, 0.25)}, mode='edge'),\n",
        "    iaa.Affine(rotate=(-45, 45)),\n",
        "    iaa.PiecewiseAffine(scale=(0.01, 0.05)),\n",
        "    iaa.CropAndPad(\n",
        "        percent=(0, 0.2),\n",
        "        pad_mode=[\"edge\"],\n",
        "    ),\n",
        "    iaa.Sequential([\n",
        "       #iaa.AddElementwise((0, 80))\n",
        "       iaa.Affine(scale=(1.5)),\n",
        "       iaa.CoarseDropout((0.08), size_percent=(0.24)),\n",
        "       iaa.Affine(scale=(0.85), mode=[\"edge\"])\n",
        "    ], random_order=False),\n",
        "    \n",
        "    iaa.Sequential([\n",
        "       iaa.Affine(scale=(0.83)),\n",
        "       iaa.Affine(rotate=(-45, 45))\n",
        "    ], random_order=False)\n",
        "\n",
        "\n",
        "], random_order=True)\n",
        "\n",
        "augg = iaa.SomeOf((1, 2), [\n",
        "    iaa.GaussianBlur(sigma=(0.0, 1.35)),\n",
        "    iaa.AverageBlur(3),\n",
        "    iaa.AddElementwise((0, 20)),\n",
        "    iaa.AdditiveGaussianNoise(scale=(0, 0.07*255)),\n",
        "    iaa.Multiply((0.5, 1.5)),\n",
        "    iaa.Dropout(p=(0, 0.12)),\n",
        "    iaa.ContrastNormalization((0.5, 1.5)),\n",
        "    iaa.Affine(shear=(-25, 25), mode=['constant', 'edge']),\n",
        "    iaa.Affine(scale=(0.7, 1.3), mode=['constant', 'edge']),\n",
        "    iaa.Affine(scale={\"x\": (0.5, 1.3), \"y\": (0.5, 1.3)}, mode=['constant', 'edge']),\n",
        "    iaa.Affine(translate_percent={\"x\": (-0.20, 0.20), \"y\": (-0.20, 0.20)}, mode='edge'),\n",
        "    iaa.CropAndPad(\n",
        "        percent=((0,0.3),(0,0.3),(0,0.3),(0,0.3)),\n",
        "        pad_mode=[\"edge\"],\n",
        "    )\n",
        "    ,\n",
        "    iaa.Sequential([\n",
        "       #iaa.AddElementwise((0, 80))\n",
        "       iaa.Affine(scale=(1.5)),\n",
        "       iaa.CoarseDropout((0.08), size_percent=(0.24)),\n",
        "       iaa.Affine(scale=(0.85), mode=[\"edge\"])\n",
        "    ], random_order=False),\n",
        "    \n",
        "    iaa.Sequential([\n",
        "       iaa.Affine(scale=(0.83)),\n",
        "       iaa.Affine(rotate=(-60, 60))\n",
        "    ], random_order=False)\n",
        "\n",
        "\n",
        "], random_order=True)\n",
        "\n",
        "new_images1 = aug.augment_images(xx)\n",
        "new_images2 = augg.augment_images(xx)\n",
        "\n",
        "\n",
        "X_train_all = np.concatenate((X_train_all,new_images1, new_images2), axis=0)\n",
        "y_train_all = np.concatenate((y_train_all,yy, yy), axis=0)\n",
        "print(\"Processing Done. matrix size: \", X_train_all.shape, y_train_all.shape)\n",
        "  \n",
        "#X_train_all = auggg.augment_images(X_train_all)\n",
        "X_train_all.shape"
      ],
      "execution_count": 14,
      "outputs": [
        {
          "output_type": "stream",
          "text": [
            "Processing Done. matrix size:  (160045, 48, 48, 1) (160045, 10)\n"
          ],
          "name": "stdout"
        },
        {
          "output_type": "execute_result",
          "data": {
            "text/plain": [
              "(160045, 48, 48, 1)"
            ]
          },
          "metadata": {
            "tags": []
          },
          "execution_count": 14
        }
      ]
    },
    {
      "metadata": {
        "id": "gt9z0o-2QtzL",
        "colab_type": "code",
        "colab": {}
      },
      "cell_type": "code",
      "source": [
        "import random\n",
        "i = 0\n",
        "while i < 16000:\n",
        "  j = random.randint(0,160044)\n",
        "  one = random.randint(20,29)\n",
        "  two = one - 16\n",
        "  three = one + 16\n",
        "  for k in range(48):\n",
        "    if k % 3 == 0:\n",
        "      X_train_all[j,one,k,0] = 60\n",
        "      X_train_all[j,two,k,0] = 60 \n",
        "      X_train_all[j,three,k,0] = 60\n",
        "  i+=1\n",
        "      "
      ],
      "execution_count": 0,
      "outputs": []
    },
    {
      "metadata": {
        "id": "F8G9wHDkdsSq",
        "colab_type": "code",
        "colab": {
          "base_uri": "https://localhost:8080/",
          "height": 268
        },
        "outputId": "87bd9478-06bd-4b51-bea7-4afbaa88c964"
      },
      "cell_type": "code",
      "source": [
        "X_temp = X_temp.reshape(X_temp.shape[0],RESIZE_DIM, RESIZE_DIM)\n",
        "plt.subplot(221)\n",
        "plt.imshow(X_temp[random.randint(0,1600)], cmap=plt.get_cmap('gray'))\n",
        "plt.subplot(222)\n",
        "plt.imshow(X_temp[random.randint(0,1600)], cmap=plt.get_cmap('gray'))\n",
        "plt.subplot(223)\n",
        "plt.imshow(X_temp[random.randint(0,1600)], cmap=plt.get_cmap('gray'))\n",
        "plt.subplot(224)\n",
        "plt.imshow(X_temp[random.randint(0,1600)], cmap=plt.get_cmap('gray'))\n",
        "# show the plot\n",
        "plt.show()"
      ],
      "execution_count": 24,
      "outputs": [
        {
          "output_type": "display_data",
          "data": {
            "image/png": "[encoded data removed]",
            "text/plain": [
              "<matplotlib.figure.Figure at 0x7f16004a6588>"
            ]
          },
          "metadata": {
            "tags": []
          }
        }
      ]
    },
    {
      "metadata": {
        "id": "ZRFLUTUEfi3W",
        "colab_type": "text"
      },
      "cell_type": "markdown",
      "source": [
        "**Next we normalize the images and divide the whole train set into separate train and validation set.**"
      ]
    },
    {
      "metadata": {
        "id": "AULDDyFhXr08",
        "colab_type": "code",
        "colab": {
          "base_uri": "https://localhost:8080/",
          "height": 36
        },
        "outputId": "1409b2c8-22b2-4de4-ae64-28b2e4a5c0f5"
      },
      "cell_type": "code",
      "source": [
        "X_train_all = X_train_all.reshape(X_train_all.shape[0],RESIZE_DIM, RESIZE_DIM,CHANNELS).astype('float32')\n",
        "X_test_all = X_test_all.reshape(X_test_all.shape[0],RESIZE_DIM, RESIZE_DIM,CHANNELS).astype('float32')\n",
        "X_train_all = np.rollaxis(X_train_all, 3, 1)\n",
        "X_test_all = np.rollaxis(X_test_all, 3, 1)\n",
        "X_train_all = X_train_all/255\n",
        "X_test_all = X_test_all/255\n",
        "\n",
        "indices=list(range(len(X_train_all)))\n",
        "np.random.seed(42)\n",
        "np.random.shuffle(indices)\n",
        "\n",
        "ind=int(len(indices)*0.85)\n",
        "# train data\n",
        "X_train=X_train_all[indices[:ind]] \n",
        "y_train=y_train_all[indices[:ind]]\n",
        "# validation data\n",
        "X_val=X_train_all[indices[-(len(indices)-ind):]] \n",
        "y_val=y_train_all[indices[-(len(indices)-ind):]]\n",
        "\n",
        "X_train_all.shape, y_train_all.shape"
      ],
      "execution_count": 39,
      "outputs": [
        {
          "output_type": "execute_result",
          "data": {
            "text/plain": [
              "((160045, 1, 48, 48), (160045, 10))"
            ]
          },
          "metadata": {
            "tags": []
          },
          "execution_count": 39
        }
      ]
    },
    {
      "metadata": {
        "id": "BNJLuaqpXr1D",
        "colab_type": "text"
      },
      "cell_type": "markdown",
      "source": [
        "## Step 3: Design the model\n",
        "\n"
      ]
    },
    {
      "metadata": {
        "id": "fXGiqc8qfwDe",
        "colab_type": "text"
      },
      "cell_type": "markdown",
      "source": [
        "**We used Keras to design our deep learning model. We used custom Convolutional Neural Network which gives state of the art result without using too many layers.**"
      ]
    },
    {
      "metadata": {
        "id": "khIF1Fu0Xr1I",
        "colab_type": "code",
        "colab": {}
      },
      "cell_type": "code",
      "source": [
        "def customm(img_size=RESIZE_DIM, channels=1):\n",
        "    model = Sequential()\n",
        "    input_shape = (img_size, img_size, channels)\n",
        "    model.add(Conv2D(32, (5,5), input_shape=input_shape, activation='relu', padding='same', kernel_initializer=glorot_uniform(seed=0)))\n",
        "    model.add(Conv2D(32, (5,5), activation='relu', padding='same', kernel_initializer=glorot_uniform(seed=0)))\n",
        "    model.add(BatchNormalization(axis=3))\n",
        "    model.add(MaxPooling2D(pool_size=(2,2)))\n",
        "    model.add(Dropout(0.2))\n",
        "    \n",
        "    model.add(Conv2D(64, (5,5), activation='relu', padding='same', kernel_initializer=glorot_uniform(seed=0)))\n",
        "    model.add(Conv2D(64, (5,5), activation='relu', padding='same', kernel_initializer=glorot_uniform(seed=0)))\n",
        "    model.add(BatchNormalization(axis=3))\n",
        "    model.add(MaxPooling2D(pool_size=(2,2)))\n",
        "    model.add(Dropout(0.2))\n",
        "    \n",
        "    model.add(Conv2D(64, (5,5), activation='relu', padding='same', kernel_initializer=glorot_uniform(seed=0)))\n",
        "    model.add(Conv2D(64, (5,5), activation='relu', padding='same', kernel_initializer=glorot_uniform(seed=0)))\n",
        "    model.add(BatchNormalization(axis=3))\n",
        "    model.add(MaxPooling2D(pool_size=(2,2)))\n",
        "    model.add(Dropout(0.2))\n",
        "    \n",
        "    model.add(Conv2D(128, (3,3), activation='relu', padding='same', kernel_initializer=glorot_uniform(seed=0)))\n",
        "    model.add(Conv2D(128, (3,3), activation='relu', padding='same', kernel_initializer=glorot_uniform(seed=0)))\n",
        "    model.add(BatchNormalization(axis=3))\n",
        "    model.add(MaxPooling2D(pool_size=(2,2)))\n",
        "    model.add(Dropout(0.2))\n",
        "    \n",
        "    model.add(Flatten())\n",
        "    model.add(Dense(1024, activation='relu'))\n",
        "    model.add(Dropout(0.2))\n",
        "    \n",
        "    model.add(Dense(512, activation='relu'))\n",
        "    model.add(Dense(10, activation='softmax'))\n",
        "    model.compile(loss='categorical_crossentropy', metrics=['accuracy'],optimizer='adam')\n",
        "    \n",
        "    return model\n",
        "    "
      ],
      "execution_count": 0,
      "outputs": []
    },
    {
      "metadata": {
        "id": "hbOBFabTXr14",
        "colab_type": "text"
      },
      "cell_type": "markdown",
      "source": [
        "## Step 3: Train the model"
      ]
    },
    {
      "metadata": {
        "id": "A92JicCHgBPM",
        "colab_type": "text"
      },
      "cell_type": "markdown",
      "source": [
        "**After designing our model we now train the model with checkpoints and dynamic learning rate for appropriate epochs to get a decent accuracy. **"
      ]
    },
    {
      "metadata": {
        "id": "V0A0hHSiXr2B",
        "colab_type": "code",
        "colab": {}
      },
      "cell_type": "code",
      "source": [
        "\n",
        "K.tensorflow_backend.clear_session() # destroys the current graph and builds a new one\n",
        "\n",
        "model = customm() \n",
        "#model.summary()\n",
        "#model = load_model('demo_model.hdf5')\n",
        "K.set_value(model.optimizer.lr,0.001) # set the learning rate\n",
        "batch_size=64\n",
        "model_check_point = ModelCheckpoint(filepath='demo_model.hdf5', save_best_only=True)\n",
        "\n",
        "learning_rate_reduction = ReduceLROnPlateau(monitor='val_acc', \n",
        "                                            patience=3, \n",
        "                                            verbose=1, \n",
        "                                            factor=0.5, \n",
        "                                            min_lr=0.00001)\n",
        "X_train_all.shape\n",
        "# fit the model\n",
        "h=model.fit(x=X_train,y=y_train, batch_size=batch_size,\n",
        "            epochs=25,\n",
        "            #steps_per_epoch=X_train.shape[0] // batch_size,\n",
        "            verbose=1,          \n",
        "            validation_data=(X_val,y_val),\n",
        "            shuffle=True,\n",
        "            callbacks=[learning_rate_reduction,model_check_point]\n",
        "            )\n"
      ],
      "execution_count": 0,
      "outputs": []
    },
    {
      "metadata": {
        "id": "NJTkknekgo-R",
        "colab_type": "text"
      },
      "cell_type": "markdown",
      "source": [
        "**Finally we save the prediction of the test set images predicted by the trained model in a csv file. **"
      ]
    },
    {
      "metadata": {
        "id": "FY4TJVhoww01",
        "colab_type": "code",
        "colab": {}
      },
      "cell_type": "code",
      "source": [
        "model = load_model('demo_model.hdf5')\n",
        "predictions_prob=model.predict(X_test_all)\n",
        "labels=[np.argmax(pred) for pred in predictions_prob]\n",
        "keys=[get_key(path) for path in paths_test_all ]\n",
        "create_submission(predictions=labels,keys=keys,path='pred.csv')"
      ],
      "execution_count": 0,
      "outputs": []
    }
  ]
}